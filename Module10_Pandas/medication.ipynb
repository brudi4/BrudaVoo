{
 "cells": [
  {
   "cell_type": "code",
   "execution_count": 19,
   "metadata": {},
   "outputs": [],
   "source": [
    "import pandas as pd\n",
    "med_list=['chlorhexidine', 'cyntomycin', 'afobazol', 'hip-hop']\n",
    "med_qty=[15, 18, 7, 100]"
   ]
  },
  {
   "cell_type": "code",
   "execution_count": 25,
   "metadata": {},
   "outputs": [
    {
     "data": {
      "text/plain": [
       "chlorhexidine     15\n",
       "cyntomycin        18\n",
       "afobazol           7\n",
       "hip-hop          100\n",
       "Name: Medications list, dtype: int64"
      ]
     },
     "execution_count": 25,
     "metadata": {},
     "output_type": "execute_result"
    }
   ],
   "source": [
    "def medications_list_creator(name, qty):\n",
    "    medication_list = pd.Series(\n",
    "        index = name,\n",
    "        data = qty,\n",
    "        name = 'Medications list'\n",
    "    )\n",
    "    return medication_list\n",
    "\n",
    "new_medication_list = medications_list_creator(med_list, med_qty)\n",
    "new_medication_list"
   ]
  },
  {
   "cell_type": "code",
   "execution_count": 23,
   "metadata": {},
   "outputs": [
    {
     "data": {
      "text/plain": [
       "71.42857142857143"
      ]
     },
     "execution_count": 23,
     "metadata": {},
     "output_type": "execute_result"
    }
   ],
   "source": [
    "def check_percentage(med_list, med_name):\n",
    "    med_percentage = med_list.loc[med_name] * 100 / sum(med_list)\n",
    "    return med_percentage\n",
    "\n",
    "check_percentage(new_medication_list,'hip-hop')"
   ]
  }
 ],
 "metadata": {
  "kernelspec": {
   "display_name": "Python 3.9.10 64-bit",
   "language": "python",
   "name": "python3"
  },
  "language_info": {
   "codemirror_mode": {
    "name": "ipython",
    "version": 3
   },
   "file_extension": ".py",
   "mimetype": "text/x-python",
   "name": "python",
   "nbconvert_exporter": "python",
   "pygments_lexer": "ipython3",
   "version": "3.9.10"
  },
  "orig_nbformat": 4,
  "vscode": {
   "interpreter": {
    "hash": "1b5bb6f559e61585a5d383ca60c366688cc4722fca6dfbd60c30e0e314b51bd8"
   }
  }
 },
 "nbformat": 4,
 "nbformat_minor": 2
}
